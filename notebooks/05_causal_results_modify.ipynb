{
 "cells": [
  {
   "cell_type": "code",
   "execution_count": 1,
   "id": "aada0654-e730-419d-ac6e-2ee712c084a2",
   "metadata": {},
   "outputs": [],
   "source": [
    "import pandas as pd"
   ]
  },
  {
   "cell_type": "code",
   "execution_count": 2,
   "id": "a1481005-ad25-4ebd-b291-ff5235721925",
   "metadata": {},
   "outputs": [
    {
     "data": {
      "text/plain": [
       "(327, 283)"
      ]
     },
     "execution_count": 2,
     "metadata": {},
     "output_type": "execute_result"
    }
   ],
   "source": [
    "tw = pd.read_csv(\"C:/Users/user/OneDrive/Desktop/causal_review_project/data/processed/causal_extraction_results_modified.csv\")\n",
    "tw01 = pd.Series(tw['cause']).drop_duplicates()\n",
    "tw02 = pd.Series(tw['effect']).drop_duplicates()\n",
    "len(tw01),len(tw02)"
   ]
  },
  {
   "cell_type": "code",
   "execution_count": 81,
   "id": "48fdf230-1b4a-481a-bdee-a4e516a70bad",
   "metadata": {},
   "outputs": [],
   "source": [
    "tw03 = pd.concat([tw01, tw02]).drop_duplicates()\n",
    "tw03 = pd.DataFrame(tw03).reset_index(drop=True).rename(columns={0:'node'})\n",
    "node_rename = pd.Series([str(i).replace('\"','') for i in tw03['node']])\n",
    "tw03 = pd.concat([tw03,node_rename],axis=1)\n",
    "tw03 = tw03.rename(columns={0:'node_rename'})\n",
    "# tw03.to_csv('C:/Users/user/OneDrive/Desktop/causal_review_project/data/processed/causal_extraction_node_list.csv', encoding=\"utf-8-sig\")"
   ]
  },
  {
   "cell_type": "code",
   "execution_count": null,
   "id": "e7947fd1-5f1a-493f-b59b-86de5699da5c",
   "metadata": {},
   "outputs": [],
   "source": [
    "## 出力したcausal_extraction_node_list.csvを手動で命名修正"
   ]
  },
  {
   "cell_type": "code",
   "execution_count": 3,
   "id": "6bb5877f-7839-49d0-9c4e-5254f71caa1a",
   "metadata": {},
   "outputs": [],
   "source": [
    "df = pd.read_csv('C:/Users/user/OneDrive/Desktop/causal_review_project/data/processed/causal_extraction_node_list.csv', encoding=\"utf-8-sig\")"
   ]
  },
  {
   "cell_type": "code",
   "execution_count": 4,
   "id": "b11a5edf-376d-40a9-9a93-3c8902deac39",
   "metadata": {},
   "outputs": [],
   "source": [
    "# 名寄せ\n",
    "tw04 = pd.DataFrame(tw['cause']).rename(columns={'cause':'node'})\n",
    "tw04 = pd.merge(tw04,df,on='node',how='inner')\n",
    "tw05 = pd.DataFrame(tw['effect']).rename(columns={'effect':'node'})\n",
    "tw05 = pd.merge(tw05,df,on='node',how='inner')"
   ]
  },
  {
   "cell_type": "code",
   "execution_count": 5,
   "id": "ea7b753d-80a7-42de-971d-af8a6b40b6da",
   "metadata": {},
   "outputs": [
    {
     "data": {
      "text/html": [
       "<div>\n",
       "<style scoped>\n",
       "    .dataframe tbody tr th:only-of-type {\n",
       "        vertical-align: middle;\n",
       "    }\n",
       "\n",
       "    .dataframe tbody tr th {\n",
       "        vertical-align: top;\n",
       "    }\n",
       "\n",
       "    .dataframe thead th {\n",
       "        text-align: right;\n",
       "    }\n",
       "</style>\n",
       "<table border=\"1\" class=\"dataframe\">\n",
       "  <thead>\n",
       "    <tr style=\"text-align: right;\">\n",
       "      <th></th>\n",
       "      <th>paper_id</th>\n",
       "      <th>cause</th>\n",
       "      <th>effect</th>\n",
       "      <th>description</th>\n",
       "      <th>effect_polarity</th>\n",
       "      <th>edge_label</th>\n",
       "    </tr>\n",
       "  </thead>\n",
       "  <tbody>\n",
       "    <tr>\n",
       "      <th>0</th>\n",
       "      <td>10.1007_s10461-020-03068-w</td>\n",
       "      <td>COVID-19</td>\n",
       "      <td>psychological distress</td>\n",
       "      <td>The total indirect effect of institutional sup...</td>\n",
       "      <td>Negative</td>\n",
       "      <td>partially_mediates</td>\n",
       "    </tr>\n",
       "    <tr>\n",
       "      <th>1</th>\n",
       "      <td>10.1007_s10461-024-04280-8</td>\n",
       "      <td>Droughts and weather extremes</td>\n",
       "      <td>Heat-related illnesses</td>\n",
       "      <td>Drought causes heat-related illnesses.</td>\n",
       "      <td>Positive</td>\n",
       "      <td>causes_heat_related_illnesses</td>\n",
       "    </tr>\n",
       "    <tr>\n",
       "      <th>2</th>\n",
       "      <td>10.1007_s10461-024-04280-8</td>\n",
       "      <td>Droughts and weather extremes</td>\n",
       "      <td>Altered patterns of vector-borne and water-bor...</td>\n",
       "      <td>Drought alters patterns of vector-borne and wa...</td>\n",
       "      <td>Positive</td>\n",
       "      <td>alters_disease_patterns</td>\n",
       "    </tr>\n",
       "    <tr>\n",
       "      <th>3</th>\n",
       "      <td>10.1007_s10461-024-04280-8</td>\n",
       "      <td>Climate change</td>\n",
       "      <td>Poverty</td>\n",
       "      <td>Climate change leads to millions of people in ...</td>\n",
       "      <td>Positive</td>\n",
       "      <td>leads_to_poverty</td>\n",
       "    </tr>\n",
       "    <tr>\n",
       "      <th>4</th>\n",
       "      <td>10.1007_s10461-024-04280-8</td>\n",
       "      <td>Droughts and weather extremes</td>\n",
       "      <td>Decreased food yields</td>\n",
       "      <td>Extreme weather events cause decreased food yi...</td>\n",
       "      <td>Positive</td>\n",
       "      <td>causes_food_yield_decrease</td>\n",
       "    </tr>\n",
       "  </tbody>\n",
       "</table>\n",
       "</div>"
      ],
      "text/plain": [
       "                     paper_id                          cause  \\\n",
       "0  10.1007_s10461-020-03068-w                       COVID-19   \n",
       "1  10.1007_s10461-024-04280-8  Droughts and weather extremes   \n",
       "2  10.1007_s10461-024-04280-8  Droughts and weather extremes   \n",
       "3  10.1007_s10461-024-04280-8                 Climate change   \n",
       "4  10.1007_s10461-024-04280-8  Droughts and weather extremes   \n",
       "\n",
       "                                              effect  \\\n",
       "0                             psychological distress   \n",
       "1                             Heat-related illnesses   \n",
       "2  Altered patterns of vector-borne and water-bor...   \n",
       "3                                            Poverty   \n",
       "4                              Decreased food yields   \n",
       "\n",
       "                                         description effect_polarity  \\\n",
       "0  The total indirect effect of institutional sup...        Negative   \n",
       "1             Drought causes heat-related illnesses.        Positive   \n",
       "2  Drought alters patterns of vector-borne and wa...        Positive   \n",
       "3  Climate change leads to millions of people in ...        Positive   \n",
       "4  Extreme weather events cause decreased food yi...        Positive   \n",
       "\n",
       "                      edge_label  \n",
       "0             partially_mediates  \n",
       "1  causes_heat_related_illnesses  \n",
       "2        alters_disease_patterns  \n",
       "3               leads_to_poverty  \n",
       "4     causes_food_yield_decrease  "
      ]
     },
     "execution_count": 5,
     "metadata": {},
     "output_type": "execute_result"
    }
   ],
   "source": [
    "# 名寄せ後のエッジリストを保存\n",
    "tw06 = pd.DataFrame({\n",
    "    'paper_id': tw['paper_id'],\n",
    "    'cause': tw04['node_rename'],\n",
    "    'effect': tw05['node_rename'],\n",
    "    'description': [str(i).replace('\"','') for i in tw['description']],\n",
    "    'effect_polarity': [str(i).replace('\"','') for i in tw['effect_polarity']],\n",
    "    'edge_label': [str(i).replace('\"','') for i in tw['edge_label']]\n",
    "})\n",
    "tw06 = tw06.dropna()\n",
    "tw06.head()"
   ]
  },
  {
   "cell_type": "code",
   "execution_count": 6,
   "id": "3bf785d9-0dc0-4864-8402-bbfacc5980cb",
   "metadata": {},
   "outputs": [],
   "source": [
    "tw06.to_csv('C:/Users/user/OneDrive/Desktop/causal_review_project/data/processed/causal_extraction_edge_list.csv', encoding='utf-8-sig')"
   ]
  },
  {
   "cell_type": "code",
   "execution_count": 97,
   "id": "81186cfd-29c8-4604-b032-1e241d28657f",
   "metadata": {},
   "outputs": [],
   "source": [
    "# tw07 = pd.Series(tw06['cause']).drop_duplicates()\n",
    "# tw08 = pd.Series(tw06['effect']).drop_duplicates()\n",
    "# tw09 = pd.concat([tw07, tw08]).drop_duplicates()\n",
    "# tw09 = pd.DataFrame(tw09).reset_index(drop=True).rename(columns={0:'node'})\n",
    "# pd.DataFrame({\n",
    "#     'node': tw09['node'],\n",
    "#     'attr' : ['Infectious diseases']*len(tw09)\n",
    "# }).to_csv('C:/Users/user/OneDrive/Desktop/causal_review_project/data/processed/causal_extraction_node_list_attr.csv', encoding='utf-8-sig')"
   ]
  },
  {
   "cell_type": "code",
   "execution_count": null,
   "id": "803ae29b-8749-4201-9bcc-e9379bd5976b",
   "metadata": {},
   "outputs": [],
   "source": []
  }
 ],
 "metadata": {
  "kernelspec": {
   "display_name": "Python 3 (ipykernel)",
   "language": "python",
   "name": "python3"
  },
  "language_info": {
   "codemirror_mode": {
    "name": "ipython",
    "version": 3
   },
   "file_extension": ".py",
   "mimetype": "text/x-python",
   "name": "python",
   "nbconvert_exporter": "python",
   "pygments_lexer": "ipython3",
   "version": "3.10.18"
  }
 },
 "nbformat": 4,
 "nbformat_minor": 5
}
