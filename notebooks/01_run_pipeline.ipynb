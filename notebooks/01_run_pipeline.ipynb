{
 "cells": [
  {
   "cell_type": "code",
   "execution_count": null,
   "id": "ca46a0cd-6155-431c-876c-4e06d002ffdd",
   "metadata": {},
   "outputs": [],
   "source": [
    "# run_pipeline.ipynb\n",
    "\n",
    "import os\n",
    "import subprocess\n",
    "from IPython.display import display, Markdown\n",
    "\n",
    "def run_script(script_path):\n",
    "    display(Markdown(f\"### 実行中: `{script_path}`\"))\n",
    "    result = subprocess.run([\"python\", script_path], capture_output=True, text=True)\n",
    "    print(result.stdout)\n",
    "    if result.stderr:\n",
    "        print(\"エラー出力:\", result.stderr)\n",
    "\n",
    "# スクリプト実行順\n",
    "scripts = [\n",
    "    \"../src/crossref_search.py\",\n",
    "    \"../src/semantic_scholar_search.py\",\n",
    "    \"../src/pubmed_search.py\",\n",
    "    \"../src/openalex_search.py\",\n",
    "    \"../src/merge_search_results.py\",\n",
    "    \"../src/screening.py\",\n",
    "    \"../src/pdf_downloader.py\"\n",
    "]\n",
    "\n",
    "# ディレクトリの準備\n",
    "os.makedirs(\"../data/metadata\", exist_ok=True)\n",
    "os.makedirs(\"../data/raw\", exist_ok=True)\n",
    "\n",
    "# 実行ループ\n",
    "for script in scripts:\n",
    "    run_script(script)\n"
   ]
  },
  {
   "cell_type": "code",
   "execution_count": null,
   "id": "4971df2e-e520-44c8-a05f-3d0c4ff22e5a",
   "metadata": {},
   "outputs": [],
   "source": []
  }
 ],
 "metadata": {
  "kernelspec": {
   "display_name": "Python 3 (ipykernel)",
   "language": "python",
   "name": "python3"
  },
  "language_info": {
   "codemirror_mode": {
    "name": "ipython",
    "version": 3
   },
   "file_extension": ".py",
   "mimetype": "text/x-python",
   "name": "python",
   "nbconvert_exporter": "python",
   "pygments_lexer": "ipython3",
   "version": "3.10.18"
  }
 },
 "nbformat": 4,
 "nbformat_minor": 5
}
